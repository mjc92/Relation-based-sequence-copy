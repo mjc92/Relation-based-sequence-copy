{
 "cells": [
  {
   "cell_type": "code",
   "execution_count": 1,
   "metadata": {},
   "outputs": [
    {
     "data": {
      "text/plain": [
       "'\\nCase 1\\n- john.smith@google.com\\n- john works for google\\n- mary.anderson@facebook.com\\n- mary works for facebook\\n'"
      ]
     },
     "execution_count": 1,
     "metadata": {},
     "output_type": "execute_result"
    }
   ],
   "source": [
    "\"\"\"\n",
    "Case 1\n",
    "- john.smith@google.com\n",
    "- john works for google\n",
    "- mary.anderson@facebook.com\n",
    "- mary works for facebook\n",
    "\"\"\""
   ]
  },
  {
   "cell_type": "code",
   "execution_count": 13,
   "metadata": {
    "collapsed": true
   },
   "outputs": [],
   "source": [
    "import numpy as np\n",
    "import random"
   ]
  },
  {
   "cell_type": "code",
   "execution_count": 57,
   "metadata": {
    "collapsed": true
   },
   "outputs": [],
   "source": [
    "import torch.nn as nn"
   ]
  },
  {
   "cell_type": "code",
   "execution_count": 56,
   "metadata": {},
   "outputs": [
    {
     "data": {
      "text/plain": [
       "array([0, 0, 0, 0, 0, 0, 0, 0, 0, 0])"
      ]
     },
     "execution_count": 56,
     "metadata": {},
     "output_type": "execute_result"
    }
   ],
   "source": [
    "nn.Cro"
   ]
  },
  {
   "cell_type": "code",
   "execution_count": 49,
   "metadata": {},
   "outputs": [],
   "source": [
    "tr_list = []\n",
    "t_list = []\n",
    "for t in range(200):\n",
    "    for i in range(200):\n",
    "        random.shuffle(num_list)\n",
    "        s1 = np.random.randint(4,10)\n",
    "        s2 = np.random.randint(4,10)\n",
    "        src1 = num_list[:s1] # src 1 w/ x\n",
    "        x1 = random.sample(src1,min(np.random.randint(1,5),s1-1))\n",
    "        trg1 = num_list[s1:s1+s2] + x1\n",
    "        random.shuffle(trg1) # trg 1 w/ x\n",
    "\n",
    "        src2 = random.sample(num_list,s1)\n",
    "        x2 = [src2[src1.index(v)] for v in x1]\n",
    "        trg2 = trg1.copy()\n",
    "        for j in range(len(x2)):\n",
    "            idx = trg1.index(x1[j])\n",
    "            trg2[idx] = x2[j]\n",
    "\n",
    "        src1 = ' '.join([str(x) for x in src1])\n",
    "        src2 = ' '.join([str(x) for x in src2])\n",
    "        trg1 = ' '.join([str(x) for x in trg1])\n",
    "        trg2 = ' '.join([str(x) for x in trg2])\n",
    "        line = src1+':'+trg1+':'+src2+':'+trg2\n",
    "        if i%2==0:\n",
    "            tr_list.append(line)\n",
    "        else:\n",
    "            t_list.append(line)\n",
    "#         print(src1)\n",
    "#         print(x1)\n",
    "#         print(trg1)\n",
    "#         print('------------------------------------')    \n",
    "#         print(src2)\n",
    "#         print(x2)\n",
    "#         print(trg2)\n",
    "#         print('------------------------------------')    \n",
    "#         print('------------------------------------')"
   ]
  },
  {
   "cell_type": "code",
   "execution_count": 50,
   "metadata": {
    "collapsed": true
   },
   "outputs": [],
   "source": [
    "with open('%dcase/train.txt' %(t+1),'w') as f:\n",
    "    f.write('\\n'.join(tr_list))\n",
    "with open('%dcase/test.txt' % (t+1),'w') as f:\n",
    "    f.write('\\n'.join(t_list))"
   ]
  },
  {
   "cell_type": "code",
   "execution_count": 51,
   "metadata": {},
   "outputs": [
    {
     "data": {
      "text/plain": [
       "[22,\n",
       " 57,\n",
       " 46,\n",
       " 72,\n",
       " 11,\n",
       " 25,\n",
       " 41,\n",
       " 75,\n",
       " 79,\n",
       " 30,\n",
       " 21,\n",
       " 39,\n",
       " 50,\n",
       " 4,\n",
       " 98,\n",
       " 6,\n",
       " 93,\n",
       " 29,\n",
       " 83,\n",
       " 49,\n",
       " 13,\n",
       " 58,\n",
       " 63,\n",
       " 66,\n",
       " 73,\n",
       " 64,\n",
       " 82,\n",
       " 42,\n",
       " 59,\n",
       " 95,\n",
       " 94,\n",
       " 84,\n",
       " 55,\n",
       " 71,\n",
       " 74,\n",
       " 48,\n",
       " 56,\n",
       " 45,\n",
       " 91,\n",
       " 87,\n",
       " 23,\n",
       " 36,\n",
       " 53,\n",
       " 8,\n",
       " 34,\n",
       " 32,\n",
       " 26,\n",
       " 65,\n",
       " 89,\n",
       " 81,\n",
       " 97,\n",
       " 69,\n",
       " 68,\n",
       " 43,\n",
       " 17,\n",
       " 9,\n",
       " 76,\n",
       " 10,\n",
       " 14,\n",
       " 61,\n",
       " 27,\n",
       " 12,\n",
       " 16,\n",
       " 37,\n",
       " 47,\n",
       " 90,\n",
       " 85,\n",
       " 96,\n",
       " 52,\n",
       " 86,\n",
       " 40,\n",
       " 70,\n",
       " 19,\n",
       " 99,\n",
       " 20,\n",
       " 92,\n",
       " 62,\n",
       " 88,\n",
       " 51,\n",
       " 35,\n",
       " 54,\n",
       " 31,\n",
       " 77,\n",
       " 80,\n",
       " 44,\n",
       " 15,\n",
       " 7,\n",
       " 60,\n",
       " 78,\n",
       " 5,\n",
       " 38,\n",
       " 18,\n",
       " 28,\n",
       " 33]"
      ]
     },
     "execution_count": 51,
     "metadata": {},
     "output_type": "execute_result"
    }
   ],
   "source": []
  },
  {
   "cell_type": "code",
   "execution_count": null,
   "metadata": {
    "collapsed": true
   },
   "outputs": [],
   "source": []
  }
 ],
 "metadata": {
  "kernelspec": {
   "display_name": "Python [conda env:pytorch]",
   "language": "python",
   "name": "conda-env-pytorch-py"
  },
  "language_info": {
   "codemirror_mode": {
    "name": "ipython",
    "version": 3
   },
   "file_extension": ".py",
   "mimetype": "text/x-python",
   "name": "python",
   "nbconvert_exporter": "python",
   "pygments_lexer": "ipython3",
   "version": "3.5.3"
  }
 },
 "nbformat": 4,
 "nbformat_minor": 2
}
